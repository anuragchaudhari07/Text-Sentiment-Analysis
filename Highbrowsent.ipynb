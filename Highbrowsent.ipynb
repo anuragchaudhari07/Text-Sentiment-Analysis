{
 "cells": [
  {
   "cell_type": "code",
   "execution_count": 2,
   "metadata": {
    "_cell_guid": "79c7e3d0-c299-4dcb-8224-4455121ee9b0",
    "_uuid": "d629ff2d2480ee46fbb7e2d37f6b5fab8052498a"
   },
   "outputs": [
    {
     "name": "stderr",
     "output_type": "stream",
     "text": [
      "Using TensorFlow backend.\n"
     ]
    }
   ],
   "source": [
    "##import libraries\n",
    "import numpy as np\n",
    "import pandas as pd\n",
    "import matplotlib.pyplot as plt\n",
    "import string\n",
    "from sklearn.utils import shuffle\n",
    "import tqdm\n",
    "from keras.models import load_model\n",
    "import emoji"
   ]
  },
  {
   "cell_type": "code",
   "execution_count": 3,
   "metadata": {
    "_cell_guid": "",
    "_uuid": ""
   },
   "outputs": [],
   "source": [
    "data = pd.read_csv(\"../Highbrowsent/sentiment140/training.1600000.processed.noemoticon.csv\",sep=',',header=None, encoding='ISO-8859-1')"
   ]
  },
  {
   "cell_type": "code",
   "execution_count": 4,
   "metadata": {},
   "outputs": [
    {
     "data": {
      "text/html": [
       "<div>\n",
       "<style scoped>\n",
       "    .dataframe tbody tr th:only-of-type {\n",
       "        vertical-align: middle;\n",
       "    }\n",
       "\n",
       "    .dataframe tbody tr th {\n",
       "        vertical-align: top;\n",
       "    }\n",
       "\n",
       "    .dataframe thead th {\n",
       "        text-align: right;\n",
       "    }\n",
       "</style>\n",
       "<table border=\"1\" class=\"dataframe\">\n",
       "  <thead>\n",
       "    <tr style=\"text-align: right;\">\n",
       "      <th></th>\n",
       "      <th>0</th>\n",
       "      <th>1</th>\n",
       "      <th>2</th>\n",
       "      <th>3</th>\n",
       "      <th>4</th>\n",
       "      <th>5</th>\n",
       "    </tr>\n",
       "  </thead>\n",
       "  <tbody>\n",
       "    <tr>\n",
       "      <th>0</th>\n",
       "      <td>0</td>\n",
       "      <td>1553733392</td>\n",
       "      <td>Sat Apr 18 15:03:53 PDT 2009</td>\n",
       "      <td>NO_QUERY</td>\n",
       "      <td>vanaessa</td>\n",
       "      <td>Benny's out.</td>\n",
       "    </tr>\n",
       "    <tr>\n",
       "      <th>1</th>\n",
       "      <td>0</td>\n",
       "      <td>1553733396</td>\n",
       "      <td>Sat Apr 18 15:03:54 PDT 2009</td>\n",
       "      <td>NO_QUERY</td>\n",
       "      <td>thespiderman86</td>\n",
       "      <td>I AM SO SAD BABE!!! FOB!!! I KNOW</td>\n",
       "    </tr>\n",
       "    <tr>\n",
       "      <th>2</th>\n",
       "      <td>0</td>\n",
       "      <td>1553733483</td>\n",
       "      <td>Sat Apr 18 15:03:52 PDT 2009</td>\n",
       "      <td>NO_QUERY</td>\n",
       "      <td>my_light</td>\n",
       "      <td>My garbage disposal is broken.</td>\n",
       "    </tr>\n",
       "    <tr>\n",
       "      <th>3</th>\n",
       "      <td>0</td>\n",
       "      <td>1553733516</td>\n",
       "      <td>Sat Apr 18 15:03:53 PDT 2009</td>\n",
       "      <td>NO_QUERY</td>\n",
       "      <td>BaByDoll79</td>\n",
       "      <td>Got my nails done..y did electric pink turn in...</td>\n",
       "    </tr>\n",
       "    <tr>\n",
       "      <th>4</th>\n",
       "      <td>0</td>\n",
       "      <td>1553733543</td>\n",
       "      <td>Sat Apr 18 15:03:53 PDT 2009</td>\n",
       "      <td>NO_QUERY</td>\n",
       "      <td>jpadamson</td>\n",
       "      <td>@rinygrin Me and Al were going to call you las...</td>\n",
       "    </tr>\n",
       "  </tbody>\n",
       "</table>\n",
       "</div>"
      ],
      "text/plain": [
       "   0           1                             2         3               4  \\\n",
       "0  0  1553733392  Sat Apr 18 15:03:53 PDT 2009  NO_QUERY        vanaessa   \n",
       "1  0  1553733396  Sat Apr 18 15:03:54 PDT 2009  NO_QUERY  thespiderman86   \n",
       "2  0  1553733483  Sat Apr 18 15:03:52 PDT 2009  NO_QUERY        my_light   \n",
       "3  0  1553733516  Sat Apr 18 15:03:53 PDT 2009  NO_QUERY      BaByDoll79   \n",
       "4  0  1553733543  Sat Apr 18 15:03:53 PDT 2009  NO_QUERY       jpadamson   \n",
       "\n",
       "                                                   5  \n",
       "0                                      Benny's out.   \n",
       "1                 I AM SO SAD BABE!!! FOB!!! I KNOW   \n",
       "2                   My garbage disposal is broken.    \n",
       "3  Got my nails done..y did electric pink turn in...  \n",
       "4  @rinygrin Me and Al were going to call you las...  "
      ]
     },
     "execution_count": 4,
     "metadata": {},
     "output_type": "execute_result"
    }
   ],
   "source": [
    "data.head()"
   ]
  },
  {
   "cell_type": "code",
   "execution_count": 4,
   "metadata": {},
   "outputs": [],
   "source": [
    "X = data.iloc[:,5:6].values"
   ]
  },
  {
   "cell_type": "code",
   "execution_count": 5,
   "metadata": {},
   "outputs": [],
   "source": [
    "Y = data.iloc[:,0:1].values"
   ]
  },
  {
   "cell_type": "code",
   "execution_count": 6,
   "metadata": {},
   "outputs": [
    {
     "data": {
      "text/plain": [
       "(1600000, 1)"
      ]
     },
     "execution_count": 6,
     "metadata": {},
     "output_type": "execute_result"
    }
   ],
   "source": [
    "X.shape"
   ]
  },
  {
   "cell_type": "code",
   "execution_count": 7,
   "metadata": {},
   "outputs": [
    {
     "data": {
      "text/plain": [
       "(1600000, 1)"
      ]
     },
     "execution_count": 7,
     "metadata": {},
     "output_type": "execute_result"
    }
   ],
   "source": [
    "Y.shape"
   ]
  },
  {
   "cell_type": "code",
   "execution_count": 8,
   "metadata": {},
   "outputs": [],
   "source": [
    "#preprocessing lib\n",
    "import re"
   ]
  },
  {
   "cell_type": "code",
   "execution_count": null,
   "metadata": {},
   "outputs": [],
   "source": [
    "#preprocessing\n",
    "corpus = []\n",
    "for i in tqdm.tqdm(range(X.shape[0])):\n",
    "    frame = re.sub('[^a-zA-Z]', ' ', X[i][0])\n",
    "    frame = frame.lower()\n",
    "    frame = frame.split()\n",
    "    frame = ' '.join(frame)\n",
    "    corpus.append(frame)"
   ]
  },
  {
   "cell_type": "code",
   "execution_count": null,
   "metadata": {},
   "outputs": [],
   "source": [
    "X_new = np.asarray(corpus)"
   ]
  },
  {
   "cell_type": "code",
   "execution_count": null,
   "metadata": {},
   "outputs": [],
   "source": [
    "X_new = np.reshape(X_new, (len(corpus),1))"
   ]
  },
  {
   "cell_type": "code",
   "execution_count": null,
   "metadata": {},
   "outputs": [],
   "source": [
    "X_new.shape"
   ]
  },
  {
   "cell_type": "code",
   "execution_count": null,
   "metadata": {},
   "outputs": [],
   "source": [
    "Y.shape"
   ]
  },
  {
   "cell_type": "code",
   "execution_count": null,
   "metadata": {},
   "outputs": [],
   "source": [
    "from sklearn.utils import shuffle\n",
    "X_new, Y = shuffle(X_new, Y)"
   ]
  },
  {
   "cell_type": "code",
   "execution_count": null,
   "metadata": {},
   "outputs": [],
   "source": [
    "from sklearn.model_selection import train_test_split"
   ]
  },
  {
   "cell_type": "code",
   "execution_count": null,
   "metadata": {},
   "outputs": [],
   "source": [
    "X_train, X_test, Y_train, Y_test = train_test_split(X_new, Y, test_size=0.25, random_state=42)"
   ]
  },
  {
   "cell_type": "code",
   "execution_count": null,
   "metadata": {},
   "outputs": [],
   "source": [
    "X_test, X_val, Y_test, Y_val = train_test_split(X_test, Y_test, test_size=0.5, random_state=42)"
   ]
  },
  {
   "cell_type": "code",
   "execution_count": 15,
   "metadata": {},
   "outputs": [
    {
     "data": {
      "text/plain": [
       "(1200000, 1)"
      ]
     },
     "execution_count": 15,
     "metadata": {},
     "output_type": "execute_result"
    }
   ],
   "source": [
    "X_train.shape"
   ]
  },
  {
   "cell_type": "code",
   "execution_count": 16,
   "metadata": {},
   "outputs": [
    {
     "data": {
      "text/plain": [
       "(200000, 1)"
      ]
     },
     "execution_count": 16,
     "metadata": {},
     "output_type": "execute_result"
    }
   ],
   "source": [
    "X_test.shape"
   ]
  },
  {
   "cell_type": "code",
   "execution_count": 17,
   "metadata": {},
   "outputs": [
    {
     "data": {
      "text/plain": [
       "(200000, 1)"
      ]
     },
     "execution_count": 17,
     "metadata": {},
     "output_type": "execute_result"
    }
   ],
   "source": [
    "X_val.shape"
   ]
  },
  {
   "cell_type": "code",
   "execution_count": null,
   "metadata": {},
   "outputs": [],
   "source": [
    "Y_train = Y_train / 4\n",
    "Y_test = Y_test / 4\n",
    "Y_val = Y_val / 4"
   ]
  },
  {
   "cell_type": "code",
   "execution_count": 9,
   "metadata": {},
   "outputs": [],
   "source": [
    "X_train = np.load('../input/processed/X_h_train.npy')"
   ]
  },
  {
   "cell_type": "code",
   "execution_count": 10,
   "metadata": {},
   "outputs": [],
   "source": [
    "Y_train = np.load('../input/processed/Y_h_train.npy')"
   ]
  },
  {
   "cell_type": "code",
   "execution_count": 11,
   "metadata": {},
   "outputs": [],
   "source": [
    "X_test = np.load('../input/processed/X_h_test.npy')"
   ]
  },
  {
   "cell_type": "code",
   "execution_count": 12,
   "metadata": {},
   "outputs": [],
   "source": [
    "Y_test = np.load('../input/processed/Y_h_test.npy')"
   ]
  },
  {
   "cell_type": "code",
   "execution_count": 13,
   "metadata": {},
   "outputs": [],
   "source": [
    "X_val = np.load('../input/processed/X_h_val.npy')"
   ]
  },
  {
   "cell_type": "code",
   "execution_count": 14,
   "metadata": {},
   "outputs": [],
   "source": [
    "Y_val = np.load('../input/processed/Y_h_val.npy')"
   ]
  },
  {
   "cell_type": "code",
   "execution_count": 27,
   "metadata": {},
   "outputs": [],
   "source": [
    "def glove_vec(glove_file):\n",
    "    with open (glove_file,'r') as f:\n",
    "        words = set()\n",
    "        words_to_vec = {}\n",
    "        for line in f:\n",
    "            line = line.strip().split()\n",
    "            current_word = line[0]\n",
    "            words.add(current_word)\n",
    "            words_to_vec[current_word] = np.array(line[1:],dtype=np.float64)\n",
    "            \n",
    "        i = 1\n",
    "        word_to_index = {}\n",
    "        index_to_word = {}\n",
    "        for w in sorted(words):\n",
    "            word_to_index[w] = i\n",
    "            index_to_word[i] = w\n",
    "            i = i+1\n",
    "            \n",
    "    return word_to_index, index_to_word, words_to_vec"
   ]
  },
  {
   "cell_type": "code",
   "execution_count": 28,
   "metadata": {},
   "outputs": [],
   "source": [
    "word_to_index, index_to_word, words_to_vec = glove_vec('../input/word2vecembedding/glove.6B.100d.txt')"
   ]
  },
  {
   "cell_type": "code",
   "execution_count": 29,
   "metadata": {},
   "outputs": [],
   "source": [
    "from keras.models import Model,load_model\n",
    "from keras.layers import Dense, Input, Dropout, LSTM, Activation\n",
    "from keras.layers.embeddings import Embedding\n",
    "from keras.preprocessing import sequence\n",
    "from keras.initializers import glorot_uniform\n",
    "from keras import regularizers"
   ]
  },
  {
   "cell_type": "code",
   "execution_count": 34,
   "metadata": {},
   "outputs": [],
   "source": [
    "def sentence_to_indices(X,word_to_index,max_len):\n",
    "    m = X.shape[0]\n",
    "    X_indices = np.zeros((m,max_len))\n",
    "    for i in range(m):\n",
    "        j = 0\n",
    "        sentence_word = [word for word in X[i][0].split()]\n",
    "        #sentence_word = [word.lower() for word in X[i][0].split()]\n",
    "        for w in sentence_word:\n",
    "            if w in word_to_index.keys():\n",
    "                X_indices[i, j] = word_to_index[w]\n",
    "            else:\n",
    "                X_indices[i, j] = word_to_index['unk']\n",
    "            j =j + 1\n",
    "            if j == maxLen:\n",
    "                break\n",
    "            \n",
    "    return X_indices"
   ]
  },
  {
   "cell_type": "code",
   "execution_count": 31,
   "metadata": {},
   "outputs": [],
   "source": [
    "def pretrained_embedding_layer(words_to_vec,word_to_index):\n",
    "    vocab_length = len(word_to_index) + 1\n",
    "    emb_dims = words_to_vec['apple'].shape[0]\n",
    "    emb_matrix = np.zeros((vocab_length,emb_dims))\n",
    "    \n",
    "    for word,index in word_to_index.items():\n",
    "        emb_matrix[index, :] = words_to_vec[word]\n",
    "        \n",
    "    embedding_layer = Embedding(vocab_length, emb_dims, trainable=False)\n",
    "    \n",
    "    embedding_layer.build((None,))\n",
    "    \n",
    "    embedding_layer.set_weights([emb_matrix])\n",
    "    \n",
    "    return embedding_layer"
   ]
  },
  {
   "cell_type": "code",
   "execution_count": 23,
   "metadata": {},
   "outputs": [],
   "source": [
    "def label_to_emoji(b):\n",
    "    return emoji.emojize(emoji_dictionary[str(b)], use_aliases=True)"
   ]
  },
  {
   "cell_type": "code",
   "execution_count": 24,
   "metadata": {},
   "outputs": [],
   "source": [
    "emoji_dictionary = {\"0\": \":sob:\",    \n",
    "                    \"1\": \":pensive:\",\n",
    "                    \"2\": \":smile:\",\n",
    "                    \"3\": \":smiley:\"}"
   ]
  },
  {
   "cell_type": "code",
   "execution_count": 25,
   "metadata": {},
   "outputs": [],
   "source": [
    "def user(c):\n",
    "    c = np.asarray([[c]])\n",
    "    corpus = []\n",
    "    frame = re.sub('[^a-zA-Z]', ' ', c[0][0])\n",
    "    frame = frame.lower()\n",
    "    corpus.append(frame)\n",
    "    c_new = np.asarray(corpus)\n",
    "    c_new = np.reshape(c_new, (len(corpus),1))\n",
    "    indices = sentence_to_indices(c_new, word_to_index, max_len=40)\n",
    "    a = model.predict(indices)\n",
    "\n",
    "    if a<=0.3:\n",
    "        b=0\n",
    "        print(\"Highly Negative: \", label_to_emoji(b))\n",
    "    elif a<=0.5:\n",
    "        b=1\n",
    "        print(\"Negative: \", label_to_emoji(b))\n",
    "    elif a>=0.8:\n",
    "        b=2\n",
    "        print(\"Highly positive: \", label_to_emoji(b))\n",
    "    else:\n",
    "        b=3\n",
    "        print(\"Positive: \", label_to_emoji(b))\n",
    "    "
   ]
  },
  {
   "cell_type": "code",
   "execution_count": null,
   "metadata": {},
   "outputs": [],
   "source": [
    "def sentiment(input_shape,word_to_index,words_to_vec):\n",
    "    sentence_indices = Input(input_shape, dtype = 'int32')\n",
    "    \n",
    "    embedding_layer = pretrained_embedding_layer(words_to_vec,word_to_index)\n",
    "    \n",
    "    embedding = embedding_layer(sentence_indices)\n",
    "    \n",
    "    \n",
    "    #layer1\n",
    "    X = LSTM(128, return_sequences = True)(embedding)\n",
    "    \n",
    "    #layer2\n",
    "    X = LSTM(128, return_sequences = False)(X)\n",
    "    \n",
    "    #dense\n",
    "    X = Dense(1)(X)\n",
    "    \n",
    "    #softmax\n",
    "    X = Activation('sigmoid')(X)\n",
    "    \n",
    "    model = Model(inputs = sentence_indices, output = X)\n",
    "    \n",
    "    return model"
   ]
  },
  {
   "cell_type": "code",
   "execution_count": null,
   "metadata": {},
   "outputs": [],
   "source": [
    "l = []\n",
    "for i in range(len(corpus)):\n",
    "    length = len(corpus[i])\n",
    "    l.append(length)\n",
    "l.sort(reverse=True)"
   ]
  },
  {
   "cell_type": "code",
   "execution_count": null,
   "metadata": {},
   "outputs": [],
   "source": [
    "l[0]"
   ]
  },
  {
   "cell_type": "code",
   "execution_count": 19,
   "metadata": {},
   "outputs": [],
   "source": [
    "model = load_model(\"../input/final-model1/highbrowsent_fmodel(1).h5\")"
   ]
  },
  {
   "cell_type": "code",
   "execution_count": 20,
   "metadata": {},
   "outputs": [],
   "source": [
    "maxLen = 40"
   ]
  },
  {
   "cell_type": "code",
   "execution_count": 21,
   "metadata": {},
   "outputs": [
    {
     "name": "stdout",
     "output_type": "stream",
     "text": [
      "Model: \"model_1\"\n",
      "_________________________________________________________________\n",
      "Layer (type)                 Output Shape              Param #   \n",
      "=================================================================\n",
      "input_1 (InputLayer)         (None, 40)                0         \n",
      "_________________________________________________________________\n",
      "embedding_1 (Embedding)      (None, 40, 100)           40000100  \n",
      "_________________________________________________________________\n",
      "lstm_1 (LSTM)                (None, 40, 128)           117248    \n",
      "_________________________________________________________________\n",
      "dropout_1 (Dropout)          (None, 40, 128)           0         \n",
      "_________________________________________________________________\n",
      "lstm_2 (LSTM)                (None, 128)               131584    \n",
      "_________________________________________________________________\n",
      "dropout_2 (Dropout)          (None, 128)               0         \n",
      "_________________________________________________________________\n",
      "dense_1 (Dense)              (None, 1)                 129       \n",
      "_________________________________________________________________\n",
      "activation_1 (Activation)    (None, 1)                 0         \n",
      "=================================================================\n",
      "Total params: 40,249,061\n",
      "Trainable params: 248,961\n",
      "Non-trainable params: 40,000,100\n",
      "_________________________________________________________________\n"
     ]
    }
   ],
   "source": [
    "model.summary()"
   ]
  },
  {
   "cell_type": "code",
   "execution_count": 22,
   "metadata": {},
   "outputs": [],
   "source": [
    "model.compile(optimizer='adam', loss = 'binary_crossentropy',metrics = ['accuracy'])"
   ]
  },
  {
   "cell_type": "code",
   "execution_count": null,
   "metadata": {},
   "outputs": [],
   "source": [
    "X_train_input = sentence_to_indices(X_train,word_to_index,maxLen)"
   ]
  },
  {
   "cell_type": "code",
   "execution_count": null,
   "metadata": {},
   "outputs": [],
   "source": [
    "X_val_input = sentence_to_indices(X_val,word_to_index,maxLen)"
   ]
  },
  {
   "cell_type": "code",
   "execution_count": null,
   "metadata": {},
   "outputs": [],
   "source": [
    "history = model.fit(X_train_input, Y_train, epochs = 10, batch_size = 512, shuffle=True, validation_data=(X_val_input, Y_val))"
   ]
  },
  {
   "cell_type": "code",
   "execution_count": null,
   "metadata": {},
   "outputs": [],
   "source": [
    "X_test_input = sentence_to_indices(X_test,word_to_index,maxLen)"
   ]
  },
  {
   "cell_type": "code",
   "execution_count": null,
   "metadata": {},
   "outputs": [],
   "source": [
    "loss, acc = model.evaluate(X_test_input, Y_test)"
   ]
  },
  {
   "cell_type": "code",
   "execution_count": null,
   "metadata": {},
   "outputs": [],
   "source": [
    "print(loss,acc)"
   ]
  },
  {
   "cell_type": "code",
   "execution_count": null,
   "metadata": {},
   "outputs": [],
   "source": [
    "model.save(\"highbrowsent_f_model.h5\")"
   ]
  },
  {
   "cell_type": "code",
   "execution_count": null,
   "metadata": {},
   "outputs": [],
   "source": [
    "from IPython.display import FileLink"
   ]
  },
  {
   "cell_type": "code",
   "execution_count": null,
   "metadata": {},
   "outputs": [],
   "source": [
    "FileLink(\"highbrowsent_f_model.h5\")"
   ]
  },
  {
   "cell_type": "code",
   "execution_count": null,
   "metadata": {},
   "outputs": [],
   "source": []
  }
 ],
 "metadata": {
  "kernelspec": {
   "display_name": "Python 3",
   "language": "python",
   "name": "python3"
  },
  "language_info": {
   "codemirror_mode": {
    "name": "ipython",
    "version": 3
   },
   "file_extension": ".py",
   "mimetype": "text/x-python",
   "name": "python",
   "nbconvert_exporter": "python",
   "pygments_lexer": "ipython3",
   "version": "3.7.3"
  }
 },
 "nbformat": 4,
 "nbformat_minor": 1
}
