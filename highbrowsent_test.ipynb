{
 "cells": [
  {
   "cell_type": "code",
   "execution_count": 1,
   "metadata": {},
   "outputs": [
    {
     "name": "stderr",
     "output_type": "stream",
     "text": [
      "Using TensorFlow backend.\n"
     ]
    }
   ],
   "source": [
    "##import libraries\n",
    "import numpy as np\n",
    "import pandas as pd\n",
    "import matplotlib.pyplot as plt\n",
    "import string\n",
    "from sklearn.utils import shuffle\n",
    "import tqdm\n",
    "from keras.models import load_model\n",
    "import emoji\n",
    "import re"
   ]
  },
  {
   "cell_type": "code",
   "execution_count": 2,
   "metadata": {},
   "outputs": [],
   "source": [
    "def label_to_emoji(b):\n",
    "    return emoji.emojize(emoji_dictionary[str(b)], use_aliases=True)"
   ]
  },
  {
   "cell_type": "code",
   "execution_count": 3,
   "metadata": {},
   "outputs": [],
   "source": [
    "emoji_dictionary = {\"0\": \":sob:\",    \n",
    "                    \"1\": \":pensive:\",\n",
    "                    \"2\": \":smile:\",\n",
    "                    \"3\": \":innocent:\"}"
   ]
  },
  {
   "cell_type": "code",
   "execution_count": 4,
   "metadata": {},
   "outputs": [],
   "source": [
    "def user(c):\n",
    "    c = np.asarray([[c]])\n",
    "    corpus = []\n",
    "    frame = re.sub('[^a-zA-Z]', ' ', c[0][0])\n",
    "    frame = frame.lower()\n",
    "    #frame = frame.split()\n",
    "    #frame = ' '.join(c)\n",
    "    corpus.append(frame)\n",
    "    c_new = np.asarray(corpus)\n",
    "    c_new = np.reshape(c_new, (len(corpus),1))\n",
    "    indices = sentence_to_indices(c_new, word_to_index, max_len=40)\n",
    "    a = model.predict(indices)\n",
    "\n",
    "    if a<=0.3:\n",
    "        b=0\n",
    "        print(\"Highly Negative: \", label_to_emoji(b))\n",
    "    elif a<=0.5:\n",
    "        b=1\n",
    "        print(\"Negative: \", label_to_emoji(b))\n",
    "    elif a>=0.8:\n",
    "        b=2\n",
    "        print(\"Highly positive: \", label_to_emoji(b))\n",
    "    else:\n",
    "        b=3\n",
    "        print(\"Positive: \", label_to_emoji(b))\n",
    "    "
   ]
  },
  {
   "cell_type": "code",
   "execution_count": 5,
   "metadata": {},
   "outputs": [],
   "source": [
    "def glove_vec(glove_file):\n",
    "    with open (glove_file,'r') as f:\n",
    "        words = set()\n",
    "        words_to_vec = {}\n",
    "        for line in f:\n",
    "            line = line.strip().split()\n",
    "            current_word = line[0]\n",
    "            words.add(current_word)\n",
    "            words_to_vec[current_word] = np.array(line[1:],dtype=np.float64)\n",
    "            \n",
    "        i = 1\n",
    "        word_to_index = {}\n",
    "        index_to_word = {}\n",
    "        for w in sorted(words):\n",
    "            word_to_index[w] = i\n",
    "            index_to_word[i] = w\n",
    "            i = i+1\n",
    "            \n",
    "    return word_to_index, index_to_word, words_to_vec"
   ]
  },
  {
   "cell_type": "code",
   "execution_count": 6,
   "metadata": {},
   "outputs": [],
   "source": [
    "word_to_index, index_to_word, words_to_vec = glove_vec('../Highbrowsent/glove.6B/glove.6B.100d.txt')"
   ]
  },
  {
   "cell_type": "code",
   "execution_count": 7,
   "metadata": {},
   "outputs": [],
   "source": [
    "from keras.models import Model,load_model\n",
    "from keras.layers import Dense, Input, Dropout, LSTM, Activation\n",
    "from keras.layers.embeddings import Embedding\n",
    "from keras.preprocessing import sequence\n",
    "from keras.initializers import glorot_uniform\n",
    "from keras import regularizers"
   ]
  },
  {
   "cell_type": "code",
   "execution_count": 20,
   "metadata": {},
   "outputs": [],
   "source": [
    "def sentence_to_indices(X,word_to_index,max_len):\n",
    "    m = X.shape[0]\n",
    "    X_indices = np.zeros((m,max_len))\n",
    "    for i in range(m):\n",
    "        j = 0\n",
    "        sentence_word = [word for word in X[i][0].split()]\n",
    "        sentence_word = [word.lower() for word in X[i][0].split()]\n",
    "        for w in sentence_word:\n",
    "            if w in word_to_index.keys():\n",
    "                X_indices[i, j] = word_to_index[w]\n",
    "            else:\n",
    "                X_indices[i, j] = word_to_index['unk']\n",
    "            j =j + 1\n",
    "            if j == maxLen:\n",
    "                break\n",
    "            \n",
    "    return X_indices"
   ]
  },
  {
   "cell_type": "code",
   "execution_count": 9,
   "metadata": {},
   "outputs": [],
   "source": [
    "maxLen = 40"
   ]
  },
  {
   "cell_type": "code",
   "execution_count": 10,
   "metadata": {},
   "outputs": [
    {
     "name": "stdout",
     "output_type": "stream",
     "text": [
      "WARNING:tensorflow:From /home/anurag/anaconda3/lib/python3.7/site-packages/tensorflow_core/python/ops/resource_variable_ops.py:1630: calling BaseResourceVariable.__init__ (from tensorflow.python.ops.resource_variable_ops) with constraint is deprecated and will be removed in a future version.\n",
      "Instructions for updating:\n",
      "If using Keras pass *_constraint arguments to layers.\n",
      "WARNING:tensorflow:From /home/anurag/anaconda3/lib/python3.7/site-packages/tensorflow_core/python/ops/nn_impl.py:183: where (from tensorflow.python.ops.array_ops) is deprecated and will be removed in a future version.\n",
      "Instructions for updating:\n",
      "Use tf.where in 2.0, which has the same broadcast rule as np.where\n",
      "WARNING:tensorflow:From /home/anurag/anaconda3/lib/python3.7/site-packages/keras/backend/tensorflow_backend.py:422: The name tf.global_variables is deprecated. Please use tf.compat.v1.global_variables instead.\n",
      "\n"
     ]
    }
   ],
   "source": [
    "model = load_model(\"../Highbrowsent/highbrowsent_f_model.h5\")"
   ]
  },
  {
   "cell_type": "code",
   "execution_count": 11,
   "metadata": {},
   "outputs": [
    {
     "name": "stdout",
     "output_type": "stream",
     "text": [
      "Model: \"model_2\"\n",
      "_________________________________________________________________\n",
      "Layer (type)                 Output Shape              Param #   \n",
      "=================================================================\n",
      "input_2 (InputLayer)         (None, 40)                0         \n",
      "_________________________________________________________________\n",
      "embedding_2 (Embedding)      (None, 40, 100)           40000100  \n",
      "_________________________________________________________________\n",
      "lstm_2 (LSTM)                (None, 40, 128)           117248    \n",
      "_________________________________________________________________\n",
      "lstm_3 (LSTM)                (None, 128)               131584    \n",
      "_________________________________________________________________\n",
      "dense_2 (Dense)              (None, 1)                 129       \n",
      "_________________________________________________________________\n",
      "activation_2 (Activation)    (None, 1)                 0         \n",
      "=================================================================\n",
      "Total params: 40,249,061\n",
      "Trainable params: 248,961\n",
      "Non-trainable params: 40,000,100\n",
      "_________________________________________________________________\n"
     ]
    }
   ],
   "source": [
    "model.summary()"
   ]
  },
  {
   "cell_type": "code",
   "execution_count": 21,
   "metadata": {},
   "outputs": [
    {
     "name": "stdout",
     "output_type": "stream",
     "text": [
      "Highly positive:  😄\n"
     ]
    }
   ],
   "source": [
    "user('my name is anurag')"
   ]
  },
  {
   "cell_type": "code",
   "execution_count": 22,
   "metadata": {},
   "outputs": [
    {
     "name": "stdout",
     "output_type": "stream",
     "text": [
      "Negative:  😔\n"
     ]
    }
   ],
   "source": [
    "user('The story is unpredictable')"
   ]
  },
  {
   "cell_type": "code",
   "execution_count": 23,
   "metadata": {},
   "outputs": [
    {
     "name": "stdout",
     "output_type": "stream",
     "text": [
      "Highly Negative:  😭\n"
     ]
    }
   ],
   "source": [
    "user('The steering wheel is unpredictable.')"
   ]
  },
  {
   "cell_type": "code",
   "execution_count": 24,
   "metadata": {},
   "outputs": [
    {
     "name": "stdout",
     "output_type": "stream",
     "text": [
      "Highly positive:  😄\n"
     ]
    }
   ],
   "source": [
    "user(\"I am happy\")"
   ]
  },
  {
   "cell_type": "code",
   "execution_count": 25,
   "metadata": {},
   "outputs": [
    {
     "name": "stdout",
     "output_type": "stream",
     "text": [
      "Highly Negative:  😭\n"
     ]
    }
   ],
   "source": [
    "user(\"I am not happy\")"
   ]
  },
  {
   "cell_type": "code",
   "execution_count": 26,
   "metadata": {},
   "outputs": [
    {
     "name": "stdout",
     "output_type": "stream",
     "text": [
      "Positive:  😇\n"
     ]
    }
   ],
   "source": [
    "user('This phone has an awesome battery backup of zero hours ')"
   ]
  },
  {
   "cell_type": "code",
   "execution_count": 27,
   "metadata": {},
   "outputs": [
    {
     "name": "stdout",
     "output_type": "stream",
     "text": [
      "Positive:  😇\n"
     ]
    }
   ],
   "source": [
    "user('he is too boring person but i like company with him')"
   ]
  },
  {
   "cell_type": "code",
   "execution_count": 28,
   "metadata": {
    "scrolled": true
   },
   "outputs": [
    {
     "name": "stdout",
     "output_type": "stream",
     "text": [
      "Highly positive:  😄\n"
     ]
    }
   ],
   "source": [
    "user('i think that it will be worst seminar ever but it is very entertaining')"
   ]
  },
  {
   "cell_type": "code",
   "execution_count": 29,
   "metadata": {},
   "outputs": [
    {
     "name": "stdout",
     "output_type": "stream",
     "text": [
      "Highly Negative:  😭\n"
     ]
    }
   ],
   "source": [
    "user(\"i am not happy\")"
   ]
  },
  {
   "cell_type": "raw",
   "metadata": {},
   "source": []
  },
  {
   "cell_type": "code",
   "execution_count": null,
   "metadata": {},
   "outputs": [],
   "source": []
  },
  {
   "cell_type": "code",
   "execution_count": null,
   "metadata": {},
   "outputs": [],
   "source": []
  }
 ],
 "metadata": {
  "kernelspec": {
   "display_name": "Python 3",
   "language": "python",
   "name": "python3"
  },
  "language_info": {
   "codemirror_mode": {
    "name": "ipython",
    "version": 3
   },
   "file_extension": ".py",
   "mimetype": "text/x-python",
   "name": "python",
   "nbconvert_exporter": "python",
   "pygments_lexer": "ipython3",
   "version": "3.7.3"
  }
 },
 "nbformat": 4,
 "nbformat_minor": 2
}
